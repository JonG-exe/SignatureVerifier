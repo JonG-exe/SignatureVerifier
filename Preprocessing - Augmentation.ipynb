{
 "cells": [
  {
   "cell_type": "code",
   "execution_count": 62,
   "id": "15332bb2",
   "metadata": {},
   "outputs": [],
   "source": [
    "import glob\n",
    "import numpy as np \n",
    "import matplotlib.pyplot as plt\n",
    "import keras\n",
    "import cv2\n",
    "import tensorflow as tf\n",
    "import pandas as pd\n",
    "import PIL\n"
   ]
  },
  {
   "cell_type": "code",
   "execution_count": 2,
   "id": "0932527c",
   "metadata": {},
   "outputs": [],
   "source": [
    "gen = []\n",
    "forg = []\n",
    "\n",
    "for i in range(1, 5):\n",
    "    gen.append(glob.glob('Dataset/Real/*.*'))\n",
    "    forg.append(glob.glob('Dataset/Forge/*.*'))"
   ]
  },
  {
   "cell_type": "code",
   "execution_count": 4,
   "id": "62860cec",
   "metadata": {},
   "outputs": [
    {
     "data": {
      "text/plain": [
       "'Dataset/Real\\\\real_1.png'"
      ]
     },
     "execution_count": 4,
     "metadata": {},
     "output_type": "execute_result"
    }
   ],
   "source": [
    "gen[0][0]"
   ]
  },
  {
   "cell_type": "code",
   "execution_count": 5,
   "id": "8d77b071",
   "metadata": {},
   "outputs": [
    {
     "data": {
      "image/png": "[encoded data removed]",
      "text/plain": [
       "<PIL.PngImagePlugin.PngImageFile image mode=RGB size=191x88 at 0xAFC6F21850>"
      ]
     },
     "execution_count": 5,
     "metadata": {},
     "output_type": "execute_result"
    }
   ],
   "source": [
    "PIL.Image.open(gen[0][0])"
   ]
  },
  {
   "cell_type": "code",
   "execution_count": 12,
   "id": "9e4a2375",
   "metadata": {},
   "outputs": [],
   "source": [
    "from skimage import transform"
   ]
  },
  {
   "cell_type": "code",
   "execution_count": 1,
   "id": "6bbc69c4",
   "metadata": {},
   "outputs": [],
   "source": [
    "import Augmentor\n",
    "import os"
   ]
  },
  {
   "cell_type": "code",
   "execution_count": 4,
   "id": "00cb4bc3",
   "metadata": {},
   "outputs": [],
   "source": [
    "num_files = len(os.listdir('Dataset/Real/'))"
   ]
  },
  {
   "cell_type": "code",
   "execution_count": 5,
   "id": "7bf838a2",
   "metadata": {},
   "outputs": [
    {
     "data": {
      "text/plain": [
       "360"
      ]
     },
     "execution_count": 5,
     "metadata": {},
     "output_type": "execute_result"
    }
   ],
   "source": [
    "num_files"
   ]
  },
  {
   "cell_type": "code",
   "execution_count": 59,
   "id": "f29b53bb",
   "metadata": {},
   "outputs": [
    {
     "name": "stdout",
     "output_type": "stream",
     "text": [
      "Initialised with 360 image(s) found.\n",
      "Output directory set to Dataset/Forged\\output."
     ]
    }
   ],
   "source": [
    "aug_forge = Augmentor.Pipeline('Dataset/Forged')"
   ]
  },
  {
   "cell_type": "code",
   "execution_count": null,
   "id": "d61a197e",
   "metadata": {},
   "outputs": [],
   "source": [
    "aug_forge = Augmentor.Pipeline('Dataset/Forged')"
   ]
  },
  {
   "cell_type": "code",
   "execution_count": 68,
   "id": "a99f0748",
   "metadata": {
    "scrolled": false
   },
   "outputs": [
    {
     "name": "stderr",
     "output_type": "stream",
     "text": [
      "Processing <PIL.Image.Image image mode=L size=1920x866 at 0xAFA9DB6550>: 100%|█████████████████████████████████████████████████████████████████████████████████| 360/360 [00:24<00:00, 14.81 Samples/s]\n"
     ]
    }
   ],
   "source": [
    "# initializing the pipeline\n",
    "aug_real = Augmentor.Pipeline('Dataset/Real/')\n",
    "\n",
    "aug_real.flip_random(probability=1)\n",
    "aug_real.sample(num_files)"
   ]
  },
  {
   "cell_type": "code",
   "execution_count": 11,
   "id": "7d8dc2b3",
   "metadata": {},
   "outputs": [
    {
     "name": "stdout",
     "output_type": "stream",
     "text": [
      "Initialised with 360 image(s) found.\n",
      "Output directory set to Dataset/Forged\\output."
     ]
    },
    {
     "name": "stderr",
     "output_type": "stream",
     "text": [
      "Processing <PIL.Image.Image image mode=L size=1730x548 at 0xB0805DA5E0>: 100%|█████████████████████████████████████████████████████████████████████████████████| 360/360 [00:20<00:00, 17.86 Samples/s]\n"
     ]
    }
   ],
   "source": [
    "# Flip\n",
    "aug_forge = Augmentor.Pipeline('Dataset/Forged')\n",
    "aug_forge.flip_random(probability=1)\n",
    "aug_forge.sample(num_files)"
   ]
  },
  {
   "cell_type": "code",
   "execution_count": 82,
   "id": "c769f880",
   "metadata": {},
   "outputs": [
    {
     "name": "stdout",
     "output_type": "stream",
     "text": [
      "Initialised with 360 image(s) found.\n",
      "Output directory set to Dataset/Real/output."
     ]
    },
    {
     "name": "stderr",
     "output_type": "stream",
     "text": [
      "Processing <PIL.Image.Image image mode=L size=1172x439 at 0xAF99D110D0>: 100%|█████████████████████████████████████████████████████████████████████████████████| 360/360 [00:54<00:00,  6.55 Samples/s]\n"
     ]
    }
   ],
   "source": [
    "# Rotating\n",
    "aug_real = Augmentor.Pipeline('Dataset/Real/')\n",
    "aug_real.rotate(probability=1, max_left_rotation=10, max_right_rotation=10)\n",
    "aug_real.sample(num_files)"
   ]
  },
  {
   "cell_type": "code",
   "execution_count": 12,
   "id": "84bd7747",
   "metadata": {},
   "outputs": [
    {
     "name": "stdout",
     "output_type": "stream",
     "text": [
      "Initialised with 360 image(s) found.\n",
      "Output directory set to Dataset/Forged/output."
     ]
    },
    {
     "name": "stderr",
     "output_type": "stream",
     "text": [
      "Processing <PIL.Image.Image image mode=RGB size=207x83 at 0xB0815E4640>: 100%|█████████████████████████████████████████████████████████████████████████████████| 360/360 [00:34<00:00, 10.52 Samples/s]\n"
     ]
    }
   ],
   "source": [
    "# Rotating\n",
    "aug_forged = Augmentor.Pipeline('Dataset/Forged/')\n",
    "aug_forged.rotate(probability=1, max_left_rotation=10, max_right_rotation=10)\n",
    "aug_forged.sample(num_files)"
   ]
  },
  {
   "cell_type": "code",
   "execution_count": 87,
   "id": "225a11c7",
   "metadata": {},
   "outputs": [
    {
     "name": "stdout",
     "output_type": "stream",
     "text": [
      "Initialised with 360 image(s) found.\n",
      "Output directory set to Dataset/Real/output."
     ]
    },
    {
     "name": "stderr",
     "output_type": "stream",
     "text": [
      "Processing <PIL.Image.Image image mode=L size=707x379 at 0xAF82E3FF40>: 100%|██████████████████████████████████████████████████████████████████████████████████| 360/360 [00:11<00:00, 31.41 Samples/s]\n"
     ]
    }
   ],
   "source": [
    "# Cropping\n",
    "aug_real = Augmentor.Pipeline('Dataset/Real/')\n",
    "aug_real.crop_random(probability=1, percentage_area=0.70)\n",
    "aug_real.sample(num_files)"
   ]
  },
  {
   "cell_type": "code",
   "execution_count": 13,
   "id": "c6efdcd3",
   "metadata": {},
   "outputs": [
    {
     "name": "stdout",
     "output_type": "stream",
     "text": [
      "Initialised with 360 image(s) found.\n",
      "Output directory set to Dataset/Forged/output."
     ]
    },
    {
     "name": "stderr",
     "output_type": "stream",
     "text": [
      "Processing <PIL.Image.Image image mode=RGB size=157x42 at 0xB08161CF70>: 100%|█████████████████████████████████████████████████████████████████████████████████| 360/360 [00:09<00:00, 38.36 Samples/s]\n"
     ]
    }
   ],
   "source": [
    "# Cropping\n",
    "aug_forged = Augmentor.Pipeline('Dataset/Forged/')\n",
    "aug_forged.crop_random(probability=1, percentage_area=0.70)\n",
    "aug_forged.sample(num_files)"
   ]
  },
  {
   "cell_type": "code",
   "execution_count": 92,
   "id": "b716ffc5",
   "metadata": {},
   "outputs": [
    {
     "name": "stdout",
     "output_type": "stream",
     "text": [
      "Initialised with 360 image(s) found.\n",
      "Output directory set to Dataset/Real/output."
     ]
    },
    {
     "name": "stderr",
     "output_type": "stream",
     "text": [
      "Processing <PIL.Image.Image image mode=L size=1481x630 at 0xAF99E93A60>: 100%|█████████████████████████████████████████████████████████████████████████████████| 360/360 [00:39<00:00,  9.15 Samples/s]\n"
     ]
    }
   ],
   "source": [
    "# Shearing\n",
    "aug_real = Augmentor.Pipeline('Dataset/Real/')\n",
    "aug_real.shear(probability=1, max_shear_left=10, max_shear_right=10)\n",
    "aug_real.sample(num_files)"
   ]
  },
  {
   "cell_type": "code",
   "execution_count": null,
   "id": "3438c39f",
   "metadata": {},
   "outputs": [],
   "source": [
    "# Shearing\n",
    "aug_real = Augmentor.Pipeline('Dataset/Real/')\n",
    "aug_real.shear(probability=1, max_shear_left=15, max_shear_right=15)\n",
    "aug_real.sample(num_files)"
   ]
  },
  {
   "cell_type": "code",
   "execution_count": null,
   "id": "31784d51",
   "metadata": {},
   "outputs": [],
   "source": [
    "# Shearing\n",
    "aug_real = Augmentor.Pipeline('Dataset/Real/')\n",
    "aug_real.shear(probability=1, max_shear_left=20, max_shear_right=20)\n",
    "aug_real.sample(num_files)"
   ]
  },
  {
   "cell_type": "code",
   "execution_count": 16,
   "id": "43a4094c",
   "metadata": {},
   "outputs": [
    {
     "name": "stdout",
     "output_type": "stream",
     "text": [
      "Initialised with 360 image(s) found.\n",
      "Output directory set to Dataset/Forged/output."
     ]
    },
    {
     "name": "stderr",
     "output_type": "stream",
     "text": [
      "Processing <PIL.Image.Image image mode=L size=1389x594 at 0xB0806056D0>: 100%|█████████████████████████████████████████████████████████████████████████████████| 360/360 [00:23<00:00, 15.15 Samples/s]\n"
     ]
    }
   ],
   "source": [
    "# Shearing\n",
    "aug_forged = Augmentor.Pipeline('Dataset/Forged/')\n",
    "aug_forged.shear(probability=1, max_shear_left=10, max_shear_right=10)\n",
    "aug_forged.sample(num_files)"
   ]
  },
  {
   "cell_type": "code",
   "execution_count": null,
   "id": "5e9d60e8",
   "metadata": {},
   "outputs": [],
   "source": [
    "# Shearing\n",
    "aug_forged = Augmentor.Pipeline('Dataset/Forged/')\n",
    "aug_forged.shear(probability=1, max_shear_left=15, max_shear_right=15)\n",
    "aug_forged.sample(num_files)"
   ]
  },
  {
   "cell_type": "code",
   "execution_count": null,
   "id": "4eef8905",
   "metadata": {},
   "outputs": [],
   "source": [
    "# Shearing\n",
    "aug_forged = Augmentor.Pipeline('Dataset/Forged/')\n",
    "aug_forged.shear(probability=1, max_shear_left=20, max_shear_right=20)\n",
    "aug_forged.sample(num_files)"
   ]
  },
  {
   "cell_type": "code",
   "execution_count": 8,
   "id": "2b56c1c8",
   "metadata": {},
   "outputs": [
    {
     "name": "stdout",
     "output_type": "stream",
     "text": [
      "Initialised with 360 image(s) found.\n",
      "Output directory set to Dataset/Real/output."
     ]
    },
    {
     "name": "stderr",
     "output_type": "stream",
     "text": [
      "Processing <PIL.Image.Image image mode=RGB size=162x87 at 0xB0E4E9F8B0>: 100%|█████████████████████████████████████████████████████████████████████████████████| 360/360 [00:35<00:00, 10.04 Samples/s]\n"
     ]
    }
   ],
   "source": [
    "# Skewing left to right\n",
    "aug_real = Augmentor.Pipeline('Dataset/Real/')\n",
    "aug_real.skew_left_right(probability=1)\n",
    "aug_real.sample(num_files)"
   ]
  },
  {
   "cell_type": "code",
   "execution_count": 17,
   "id": "ab0a59fa",
   "metadata": {},
   "outputs": [
    {
     "name": "stdout",
     "output_type": "stream",
     "text": [
      "Initialised with 360 image(s) found.\n",
      "Output directory set to Dataset/Forged/output."
     ]
    },
    {
     "name": "stderr",
     "output_type": "stream",
     "text": [
      "Processing <PIL.Image.Image image mode=L size=818x642 at 0xB081601FD0>: 100%|██████████████████████████████████████████████████████████████████████████████████| 360/360 [00:32<00:00, 10.95 Samples/s]\n"
     ]
    }
   ],
   "source": [
    "# Skewing left to right\n",
    "aug_forged = Augmentor.Pipeline('Dataset/Forged/')\n",
    "aug_forged.skew_left_right(probability=1)\n",
    "aug_forged.sample(num_files)"
   ]
  },
  {
   "cell_type": "code",
   "execution_count": 9,
   "id": "d8a59944",
   "metadata": {
    "scrolled": true
   },
   "outputs": [
    {
     "name": "stdout",
     "output_type": "stream",
     "text": [
      "Initialised with 360 image(s) found.\n",
      "Output directory set to Dataset/Real/output."
     ]
    },
    {
     "name": "stderr",
     "output_type": "stream",
     "text": [
      "Processing <PIL.Image.Image image mode=L size=616x354 at 0xB0E4E63670>: 100%|██████████████████████████████████████████████████████████████████████████████████| 360/360 [00:37<00:00,  9.52 Samples/s]\n"
     ]
    }
   ],
   "source": [
    "# Skewing top to bottom\n",
    "aug_real = Augmentor.Pipeline('Dataset/Real/')\n",
    "aug_real.skew_top_bottom(probability=1)\n",
    "aug_real.sample(num_files)"
   ]
  },
  {
   "cell_type": "code",
   "execution_count": 18,
   "id": "89660f7b",
   "metadata": {},
   "outputs": [
    {
     "name": "stdout",
     "output_type": "stream",
     "text": [
      "Initialised with 360 image(s) found.\n",
      "Output directory set to Dataset/Forged/output."
     ]
    },
    {
     "name": "stderr",
     "output_type": "stream",
     "text": [
      "Processing <PIL.Image.Image image mode=L size=1648x800 at 0xB0807A01C0>: 100%|█████████████████████████████████████████████████████████████████████████████████| 360/360 [00:30<00:00, 11.62 Samples/s]\n"
     ]
    }
   ],
   "source": [
    "# Skewing top to bottom\n",
    "aug_forged = Augmentor.Pipeline('Dataset/Forged/')\n",
    "aug_forged.skew_top_bottom(probability=1)\n",
    "aug_forged.sample(num_files)"
   ]
  },
  {
   "cell_type": "code",
   "execution_count": 10,
   "id": "99b3eb81",
   "metadata": {},
   "outputs": [
    {
     "name": "stdout",
     "output_type": "stream",
     "text": [
      "Initialised with 360 image(s) found.\n",
      "Output directory set to Dataset/Real/output."
     ]
    },
    {
     "name": "stderr",
     "output_type": "stream",
     "text": [
      "Processing <PIL.Image.Image image mode=L size=1560x1135 at 0xB0E4E69160>: 100%|████████████████████████████████████████████████████████████████████████████████| 360/360 [00:26<00:00, 13.53 Samples/s]\n"
     ]
    }
   ],
   "source": [
    "# Skewing corner\n",
    "aug_real = Augmentor.Pipeline('Dataset/Real/')\n",
    "aug_real.skew_corner(probability=1)\n",
    "aug_real.sample(num_files)"
   ]
  },
  {
   "cell_type": "code",
   "execution_count": 19,
   "id": "d0985f26",
   "metadata": {},
   "outputs": [
    {
     "name": "stdout",
     "output_type": "stream",
     "text": [
      "Initialised with 360 image(s) found.\n",
      "Output directory set to Dataset/Forged/output."
     ]
    },
    {
     "name": "stderr",
     "output_type": "stream",
     "text": [
      "Processing <PIL.Image.Image image mode=RGB size=224x63 at 0xB0805F3DF0>: 100%|█████████████████████████████████████████████████████████████████████████████████| 360/360 [00:40<00:00,  8.92 Samples/s]\n"
     ]
    }
   ],
   "source": [
    "# Skewing corner\n",
    "aug_forged = Augmentor.Pipeline('Dataset/Forged/')\n",
    "aug_forged.skew_corner(probability=1)\n",
    "aug_forged.sample(num_files)"
   ]
  },
  {
   "cell_type": "code",
   "execution_count": null,
   "id": "ecf5efac",
   "metadata": {},
   "outputs": [],
   "source": [
    "from PIL import Image"
   ]
  },
  {
   "cell_type": "code",
   "execution_count": null,
   "id": "32f372b1",
   "metadata": {},
   "outputs": [],
   "source": [
    "gen = (glob.glob('Dataset/Real/*.*'))\n",
    "\n",
    "\n",
    "for i in range(len(gen)):\n",
    "    img = Image.open(gen[i])\n",
    "    imgGray = img.convert('L')\n",
    "    imgGray.save(gen[i])\n",
    "\n",
    "\n",
    "\n",
    "forg = (glob.glob('Dataset/Forged/*.*'))\n",
    "\n",
    "for i in range(len(forg)):\n",
    "    img = Image.open(forg[i])\n",
    "    imgGray = img.convert('L')\n",
    "    imgGray.save(forg[i])"
   ]
  }
 ],
 "metadata": {
  "kernelspec": {
   "display_name": "Python 3 (ipykernel)",
   "language": "python",
   "name": "python3"
  },
  "language_info": {
   "codemirror_mode": {
    "name": "ipython",
    "version": 3
   },
   "file_extension": ".py",
   "mimetype": "text/x-python",
   "name": "python",
   "nbconvert_exporter": "python",
   "pygments_lexer": "ipython3",
   "version": "3.9.7"
  }
 },
 "nbformat": 4,
 "nbformat_minor": 5
}
